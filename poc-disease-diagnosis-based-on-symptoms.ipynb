{
 "cells": [
  {
   "cell_type": "code",
   "execution_count": 1,
   "id": "4eca0c5e",
   "metadata": {
    "_cell_guid": "b1076dfc-b9ad-4769-8c92-a6c4dae69d19",
    "_uuid": "8f2839f25d086af736a60e9eeb907d3b93b6e0e5",
    "execution": {
     "iopub.execute_input": "2022-08-10T16:29:40.937625Z",
     "iopub.status.busy": "2022-08-10T16:29:40.936482Z",
     "iopub.status.idle": "2022-08-10T16:29:40.958676Z",
     "shell.execute_reply": "2022-08-10T16:29:40.957418Z"
    },
    "papermill": {
     "duration": 0.034776,
     "end_time": "2022-08-10T16:29:40.961345",
     "exception": false,
     "start_time": "2022-08-10T16:29:40.926569",
     "status": "completed"
    },
    "tags": []
   },
   "outputs": [
    {
     "name": "stdout",
     "output_type": "stream",
     "text": [
      "/kaggle/input/disease-symptom-description-dataset/symptom_Description.csv\n",
      "/kaggle/input/disease-symptom-description-dataset/Symptom-severity.csv\n",
      "/kaggle/input/disease-symptom-description-dataset/symptom_precaution.csv\n",
      "/kaggle/input/disease-symptom-description-dataset/dataset.csv\n"
     ]
    }
   ],
   "source": [
    "# This Python 3 environment comes with many helpful analytics libraries installed\n",
    "# It is defined by the kaggle/python Docker image: https://github.com/kaggle/docker-python\n",
    "# For example, here's several helpful packages to load\n",
    "\n",
    "import numpy as np # linear algebra\n",
    "import pandas as pd # data processing, CSV file I/O (e.g. pd.read_csv)\n",
    "\n",
    "# Input data files are available in the read-only \"../input/\" directory\n",
    "# For example, running this (by clicking run or pressing Shift+Enter) will list all files under the input directory\n",
    "\n",
    "import os\n",
    "for dirname, _, filenames in os.walk('/kaggle/input'):\n",
    "    for filename in filenames:\n",
    "        print(os.path.join(dirname, filename))\n",
    "\n",
    "# You can write up to 20GB to the current directory (/kaggle/working/) that gets preserved as output when you create a version using \"Save & Run All\" \n",
    "# You can also write temporary files to /kaggle/temp/, but they won't be saved outside of the current session"
   ]
  },
  {
   "cell_type": "code",
   "execution_count": 2,
   "id": "64ec3e81",
   "metadata": {
    "execution": {
     "iopub.execute_input": "2022-08-10T16:29:40.977874Z",
     "iopub.status.busy": "2022-08-10T16:29:40.977447Z",
     "iopub.status.idle": "2022-08-10T16:29:42.145128Z",
     "shell.execute_reply": "2022-08-10T16:29:42.144169Z"
    },
    "papermill": {
     "duration": 1.178947,
     "end_time": "2022-08-10T16:29:42.147736",
     "exception": false,
     "start_time": "2022-08-10T16:29:40.968789",
     "status": "completed"
    },
    "tags": []
   },
   "outputs": [],
   "source": [
    "import numpy as np \n",
    "import pandas as pd\n",
    "from collections import Counter\n",
    "import matplotlib.pyplot as plt\n",
    "import seaborn as sns"
   ]
  },
  {
   "cell_type": "code",
   "execution_count": 3,
   "id": "1ba9673e",
   "metadata": {
    "execution": {
     "iopub.execute_input": "2022-08-10T16:29:42.165119Z",
     "iopub.status.busy": "2022-08-10T16:29:42.163882Z",
     "iopub.status.idle": "2022-08-10T16:29:42.203125Z",
     "shell.execute_reply": "2022-08-10T16:29:42.202145Z"
    },
    "papermill": {
     "duration": 0.050816,
     "end_time": "2022-08-10T16:29:42.205929",
     "exception": false,
     "start_time": "2022-08-10T16:29:42.155113",
     "status": "completed"
    },
    "tags": []
   },
   "outputs": [],
   "source": [
    "df = pd.read_csv('../input/disease-symptom-description-dataset/dataset.csv')"
   ]
  },
  {
   "cell_type": "code",
   "execution_count": 4,
   "id": "00c3e09f",
   "metadata": {
    "execution": {
     "iopub.execute_input": "2022-08-10T16:29:42.221981Z",
     "iopub.status.busy": "2022-08-10T16:29:42.221565Z",
     "iopub.status.idle": "2022-08-10T16:29:42.226807Z",
     "shell.execute_reply": "2022-08-10T16:29:42.225726Z"
    },
    "papermill": {
     "duration": 0.015951,
     "end_time": "2022-08-10T16:29:42.229011",
     "exception": false,
     "start_time": "2022-08-10T16:29:42.213060",
     "status": "completed"
    },
    "tags": []
   },
   "outputs": [],
   "source": [
    "df.columns = df.columns.str.lower()"
   ]
  },
  {
   "cell_type": "code",
   "execution_count": 5,
   "id": "13f0359d",
   "metadata": {
    "execution": {
     "iopub.execute_input": "2022-08-10T16:29:42.244950Z",
     "iopub.status.busy": "2022-08-10T16:29:42.244515Z",
     "iopub.status.idle": "2022-08-10T16:29:42.259523Z",
     "shell.execute_reply": "2022-08-10T16:29:42.258664Z"
    },
    "papermill": {
     "duration": 0.025733,
     "end_time": "2022-08-10T16:29:42.261839",
     "exception": false,
     "start_time": "2022-08-10T16:29:42.236106",
     "status": "completed"
    },
    "tags": []
   },
   "outputs": [],
   "source": [
    "symp_cols = df[df.columns[1:]].columns"
   ]
  },
  {
   "cell_type": "code",
   "execution_count": 6,
   "id": "54f39a4b",
   "metadata": {
    "execution": {
     "iopub.execute_input": "2022-08-10T16:29:42.278344Z",
     "iopub.status.busy": "2022-08-10T16:29:42.277367Z",
     "iopub.status.idle": "2022-08-10T16:29:42.294455Z",
     "shell.execute_reply": "2022-08-10T16:29:42.293217Z"
    },
    "papermill": {
     "duration": 0.028414,
     "end_time": "2022-08-10T16:29:42.297231",
     "exception": false,
     "start_time": "2022-08-10T16:29:42.268817",
     "status": "completed"
    },
    "tags": []
   },
   "outputs": [
    {
     "name": "stdout",
     "output_type": "stream",
     "text": [
      "CPU times: user 8 ms, sys: 819 µs, total: 8.81 ms\n",
      "Wall time: 10.2 ms\n"
     ]
    }
   ],
   "source": [
    "%%time\n",
    "values = []\n",
    "for col in symp_cols :\n",
    "    values = values + list(df[symp_cols[0]].values)\n",
    "    "
   ]
  },
  {
   "cell_type": "code",
   "execution_count": 7,
   "id": "39b94344",
   "metadata": {
    "execution": {
     "iopub.execute_input": "2022-08-10T16:29:42.313233Z",
     "iopub.status.busy": "2022-08-10T16:29:42.312860Z",
     "iopub.status.idle": "2022-08-10T16:29:42.323487Z",
     "shell.execute_reply": "2022-08-10T16:29:42.322117Z"
    },
    "papermill": {
     "duration": 0.021551,
     "end_time": "2022-08-10T16:29:42.325947",
     "exception": false,
     "start_time": "2022-08-10T16:29:42.304396",
     "status": "completed"
    },
    "tags": []
   },
   "outputs": [],
   "source": [
    "counter = Counter(values)"
   ]
  },
  {
   "cell_type": "code",
   "execution_count": 8,
   "id": "7ba4ded8",
   "metadata": {
    "execution": {
     "iopub.execute_input": "2022-08-10T16:29:42.342685Z",
     "iopub.status.busy": "2022-08-10T16:29:42.341867Z",
     "iopub.status.idle": "2022-08-10T16:29:42.347692Z",
     "shell.execute_reply": "2022-08-10T16:29:42.346757Z"
    },
    "papermill": {
     "duration": 0.017359,
     "end_time": "2022-08-10T16:29:42.350412",
     "exception": false,
     "start_time": "2022-08-10T16:29:42.333053",
     "status": "completed"
    },
    "tags": []
   },
   "outputs": [],
   "source": [
    "results = pd.Series(dict(counter))"
   ]
  },
  {
   "cell_type": "code",
   "execution_count": 9,
   "id": "e9ee555b",
   "metadata": {
    "execution": {
     "iopub.execute_input": "2022-08-10T16:29:42.366793Z",
     "iopub.status.busy": "2022-08-10T16:29:42.366004Z",
     "iopub.status.idle": "2022-08-10T16:29:42.860199Z",
     "shell.execute_reply": "2022-08-10T16:29:42.859255Z"
    },
    "papermill": {
     "duration": 0.505019,
     "end_time": "2022-08-10T16:29:42.862556",
     "exception": false,
     "start_time": "2022-08-10T16:29:42.357537",
     "status": "completed"
    },
    "tags": []
   },
   "outputs": [
    {
     "data": {
      "text/plain": [
       "<AxesSubplot:>"
      ]
     },
     "execution_count": 9,
     "metadata": {},
     "output_type": "execute_result"
    },
    {
     "data": {
      "image/png": "[encoded data removed]",
      "text/plain": [
       "<Figure size 1440x576 with 1 Axes>"
      ]
     },
     "metadata": {
      "needs_background": "light"
     },
     "output_type": "display_data"
    }
   ],
   "source": [
    "results.sort_values(ascending=True).plot(kind='barh',figsize=(20,8))"
   ]
  },
  {
   "cell_type": "code",
   "execution_count": 10,
   "id": "6e24c905",
   "metadata": {
    "execution": {
     "iopub.execute_input": "2022-08-10T16:29:42.880833Z",
     "iopub.status.busy": "2022-08-10T16:29:42.880097Z",
     "iopub.status.idle": "2022-08-10T16:29:42.891276Z",
     "shell.execute_reply": "2022-08-10T16:29:42.890024Z"
    },
    "papermill": {
     "duration": 0.023371,
     "end_time": "2022-08-10T16:29:42.894111",
     "exception": false,
     "start_time": "2022-08-10T16:29:42.870740",
     "status": "completed"
    },
    "tags": []
   },
   "outputs": [],
   "source": [
    "df.fillna(\" notprovided \",inplace=True)"
   ]
  },
  {
   "cell_type": "code",
   "execution_count": 11,
   "id": "0dbf7c3a",
   "metadata": {
    "execution": {
     "iopub.execute_input": "2022-08-10T16:29:42.912819Z",
     "iopub.status.busy": "2022-08-10T16:29:42.912154Z",
     "iopub.status.idle": "2022-08-10T16:29:42.920955Z",
     "shell.execute_reply": "2022-08-10T16:29:42.919810Z"
    },
    "papermill": {
     "duration": 0.021419,
     "end_time": "2022-08-10T16:29:42.923575",
     "exception": false,
     "start_time": "2022-08-10T16:29:42.902156",
     "status": "completed"
    },
    "tags": []
   },
   "outputs": [],
   "source": [
    "symp_cols = df[df.columns[1:]].columns\n",
    "\n",
    "#df[f\"{symptom}\"] = df[col].apply(lambda x : 1 if str(symptom) in x else x)"
   ]
  },
  {
   "cell_type": "code",
   "execution_count": 12,
   "id": "e77d2cdc",
   "metadata": {
    "execution": {
     "iopub.execute_input": "2022-08-10T16:29:42.941127Z",
     "iopub.status.busy": "2022-08-10T16:29:42.940712Z",
     "iopub.status.idle": "2022-08-10T16:29:42.953950Z",
     "shell.execute_reply": "2022-08-10T16:29:42.952781Z"
    },
    "papermill": {
     "duration": 0.025354,
     "end_time": "2022-08-10T16:29:42.957041",
     "exception": false,
     "start_time": "2022-08-10T16:29:42.931687",
     "status": "completed"
    },
    "tags": []
   },
   "outputs": [],
   "source": [
    "df.dropna(axis=1,inplace=True,how='all')"
   ]
  },
  {
   "cell_type": "code",
   "execution_count": 13,
   "id": "f4812ea0",
   "metadata": {
    "execution": {
     "iopub.execute_input": "2022-08-10T16:29:42.974634Z",
     "iopub.status.busy": "2022-08-10T16:29:42.974199Z",
     "iopub.status.idle": "2022-08-10T16:29:42.981326Z",
     "shell.execute_reply": "2022-08-10T16:29:42.980149Z"
    },
    "papermill": {
     "duration": 0.018869,
     "end_time": "2022-08-10T16:29:42.983802",
     "exception": false,
     "start_time": "2022-08-10T16:29:42.964933",
     "status": "completed"
    },
    "tags": []
   },
   "outputs": [
    {
     "data": {
      "text/plain": [
       "Index(['symptom_1', 'symptom_2', 'symptom_3', 'symptom_4', 'symptom_5',\n",
       "       'symptom_6', 'symptom_7', 'symptom_8', 'symptom_9', 'symptom_10',\n",
       "       'symptom_11', 'symptom_12', 'symptom_13', 'symptom_14', 'symptom_15',\n",
       "       'symptom_16', 'symptom_17'],\n",
       "      dtype='object')"
      ]
     },
     "execution_count": 13,
     "metadata": {},
     "output_type": "execute_result"
    }
   ],
   "source": [
    "symp_cols"
   ]
  },
  {
   "cell_type": "code",
   "execution_count": 14,
   "id": "52e5e56a",
   "metadata": {
    "execution": {
     "iopub.execute_input": "2022-08-10T16:29:43.001637Z",
     "iopub.status.busy": "2022-08-10T16:29:43.001192Z",
     "iopub.status.idle": "2022-08-10T16:29:43.030739Z",
     "shell.execute_reply": "2022-08-10T16:29:43.029444Z"
    },
    "papermill": {
     "duration": 0.041248,
     "end_time": "2022-08-10T16:29:43.033179",
     "exception": false,
     "start_time": "2022-08-10T16:29:42.991931",
     "status": "completed"
    },
    "tags": []
   },
   "outputs": [],
   "source": [
    "df[\"symptoms\"] = df['symptom_1'] + \"--\" + df['symptom_2'] + \"--\" + df['symptom_3'] + \"--\" + df['symptom_4'] + \"--\" + df['symptom_5'] + \"--\" + \\\n",
    "        df['symptom_6'] + \"--\" + df['symptom_7'] + \"--\" + df['symptom_8'] + \"--\" + df['symptom_9'] + \"--\" + df['symptom_10'] + \"--\" + \\\n",
    "        df['symptom_11'] + \"--\" + df['symptom_12'] + \"--\" + df['symptom_13'] + \"--\" + df['symptom_14'] + \"--\" + df['symptom_15'] + \"--\" + \\\n",
    "        df['symptom_16'] + \"--\" + df['symptom_17']"
   ]
  },
  {
   "cell_type": "code",
   "execution_count": 15,
   "id": "cddd740c",
   "metadata": {
    "execution": {
     "iopub.execute_input": "2022-08-10T16:29:43.051750Z",
     "iopub.status.busy": "2022-08-10T16:29:43.050488Z",
     "iopub.status.idle": "2022-08-10T16:29:43.058930Z",
     "shell.execute_reply": "2022-08-10T16:29:43.058035Z"
    },
    "papermill": {
     "duration": 0.020138,
     "end_time": "2022-08-10T16:29:43.061367",
     "exception": false,
     "start_time": "2022-08-10T16:29:43.041229",
     "status": "completed"
    },
    "tags": []
   },
   "outputs": [],
   "source": [
    "df = df[[\"disease\",\"symptoms\"]]"
   ]
  },
  {
   "cell_type": "code",
   "execution_count": 16,
   "id": "9ec190f3",
   "metadata": {
    "execution": {
     "iopub.execute_input": "2022-08-10T16:29:43.079837Z",
     "iopub.status.busy": "2022-08-10T16:29:43.079192Z",
     "iopub.status.idle": "2022-08-10T16:29:43.091118Z",
     "shell.execute_reply": "2022-08-10T16:29:43.090221Z"
    },
    "papermill": {
     "duration": 0.023405,
     "end_time": "2022-08-10T16:29:43.093418",
     "exception": false,
     "start_time": "2022-08-10T16:29:43.070013",
     "status": "completed"
    },
    "tags": []
   },
   "outputs": [
    {
     "data": {
      "text/plain": [
       "0       1\n",
       "1       0\n",
       "2       1\n",
       "3       1\n",
       "4       1\n",
       "       ..\n",
       "4915    0\n",
       "4916    0\n",
       "4917    0\n",
       "4918    0\n",
       "4919    0\n",
       "Name: symptoms, Length: 4920, dtype: int64"
      ]
     },
     "execution_count": 16,
     "metadata": {},
     "output_type": "execute_result"
    }
   ],
   "source": [
    "df[\"symptoms\"].apply(lambda x: 1 if \"itching\" in x else 0)"
   ]
  },
  {
   "cell_type": "code",
   "execution_count": 17,
   "id": "c44bb470",
   "metadata": {
    "execution": {
     "iopub.execute_input": "2022-08-10T16:29:43.111910Z",
     "iopub.status.busy": "2022-08-10T16:29:43.111126Z",
     "iopub.status.idle": "2022-08-10T16:29:43.117952Z",
     "shell.execute_reply": "2022-08-10T16:29:43.117095Z"
    },
    "papermill": {
     "duration": 0.018536,
     "end_time": "2022-08-10T16:29:43.120196",
     "exception": false,
     "start_time": "2022-08-10T16:29:43.101660",
     "status": "completed"
    },
    "tags": []
   },
   "outputs": [
    {
     "data": {
      "text/plain": [
       "Index(['itching', ' skin_rash', ' continuous_sneezing', ' shivering',\n",
       "       ' stomach_pain', ' acidity', ' vomiting', ' indigestion',\n",
       "       ' muscle_wasting', ' patches_in_throat', ' fatigue', ' weight_loss',\n",
       "       ' sunken_eyes', ' cough', ' headache', ' chest_pain', ' back_pain',\n",
       "       ' weakness_in_limbs', ' chills', ' joint_pain', ' yellowish_skin',\n",
       "       ' constipation', ' pain_during_bowel_movements', ' breathlessness',\n",
       "       ' cramps', ' weight_gain', ' mood_swings', ' neck_pain',\n",
       "       ' muscle_weakness', ' stiff_neck', ' pus_filled_pimples',\n",
       "       ' burning_micturition', ' bladder_discomfort', ' high_fever'],\n",
       "      dtype='object')"
      ]
     },
     "execution_count": 17,
     "metadata": {},
     "output_type": "execute_result"
    }
   ],
   "source": [
    "results.index"
   ]
  },
  {
   "cell_type": "code",
   "execution_count": 18,
   "id": "4e774133",
   "metadata": {
    "execution": {
     "iopub.execute_input": "2022-08-10T16:29:43.139713Z",
     "iopub.status.busy": "2022-08-10T16:29:43.138939Z",
     "iopub.status.idle": "2022-08-10T16:29:43.256958Z",
     "shell.execute_reply": "2022-08-10T16:29:43.255852Z"
    },
    "papermill": {
     "duration": 0.13111,
     "end_time": "2022-08-10T16:29:43.259764",
     "exception": false,
     "start_time": "2022-08-10T16:29:43.128654",
     "status": "completed"
    },
    "tags": []
   },
   "outputs": [],
   "source": [
    "for item in results.index:\n",
    "    symptom = item.strip()\n",
    "    df[f\"{symptom}\"] = df[\"symptoms\"].apply(lambda x : 1 if symptom in x else 0)"
   ]
  },
  {
   "cell_type": "code",
   "execution_count": 19,
   "id": "5fa69d02",
   "metadata": {
    "execution": {
     "iopub.execute_input": "2022-08-10T16:29:43.278501Z",
     "iopub.status.busy": "2022-08-10T16:29:43.278098Z",
     "iopub.status.idle": "2022-08-10T16:29:43.289155Z",
     "shell.execute_reply": "2022-08-10T16:29:43.287995Z"
    },
    "papermill": {
     "duration": 0.023271,
     "end_time": "2022-08-10T16:29:43.291858",
     "exception": false,
     "start_time": "2022-08-10T16:29:43.268587",
     "status": "completed"
    },
    "tags": []
   },
   "outputs": [],
   "source": [
    "df.drop([\"symptoms\"],inplace=True,axis=1)"
   ]
  },
  {
   "cell_type": "code",
   "execution_count": 20,
   "id": "e0bc407f",
   "metadata": {
    "execution": {
     "iopub.execute_input": "2022-08-10T16:29:43.310396Z",
     "iopub.status.busy": "2022-08-10T16:29:43.309986Z",
     "iopub.status.idle": "2022-08-10T16:29:43.338259Z",
     "shell.execute_reply": "2022-08-10T16:29:43.336987Z"
    },
    "papermill": {
     "duration": 0.040651,
     "end_time": "2022-08-10T16:29:43.340923",
     "exception": false,
     "start_time": "2022-08-10T16:29:43.300272",
     "status": "completed"
    },
    "tags": []
   },
   "outputs": [
    {
     "data": {
      "text/html": [
       "<div>\n",
       "<style scoped>\n",
       "    .dataframe tbody tr th:only-of-type {\n",
       "        vertical-align: middle;\n",
       "    }\n",
       "\n",
       "    .dataframe tbody tr th {\n",
       "        vertical-align: top;\n",
       "    }\n",
       "\n",
       "    .dataframe thead th {\n",
       "        text-align: right;\n",
       "    }\n",
       "</style>\n",
       "<table border=\"1\" class=\"dataframe\">\n",
       "  <thead>\n",
       "    <tr style=\"text-align: right;\">\n",
       "      <th></th>\n",
       "      <th>disease</th>\n",
       "      <th>itching</th>\n",
       "      <th>skin_rash</th>\n",
       "      <th>continuous_sneezing</th>\n",
       "      <th>shivering</th>\n",
       "      <th>stomach_pain</th>\n",
       "      <th>acidity</th>\n",
       "      <th>vomiting</th>\n",
       "      <th>indigestion</th>\n",
       "      <th>muscle_wasting</th>\n",
       "      <th>...</th>\n",
       "      <th>cramps</th>\n",
       "      <th>weight_gain</th>\n",
       "      <th>mood_swings</th>\n",
       "      <th>neck_pain</th>\n",
       "      <th>muscle_weakness</th>\n",
       "      <th>stiff_neck</th>\n",
       "      <th>pus_filled_pimples</th>\n",
       "      <th>burning_micturition</th>\n",
       "      <th>bladder_discomfort</th>\n",
       "      <th>high_fever</th>\n",
       "    </tr>\n",
       "  </thead>\n",
       "  <tbody>\n",
       "    <tr>\n",
       "      <th>0</th>\n",
       "      <td>Fungal infection</td>\n",
       "      <td>1</td>\n",
       "      <td>1</td>\n",
       "      <td>0</td>\n",
       "      <td>0</td>\n",
       "      <td>0</td>\n",
       "      <td>0</td>\n",
       "      <td>0</td>\n",
       "      <td>0</td>\n",
       "      <td>0</td>\n",
       "      <td>...</td>\n",
       "      <td>0</td>\n",
       "      <td>0</td>\n",
       "      <td>0</td>\n",
       "      <td>0</td>\n",
       "      <td>0</td>\n",
       "      <td>0</td>\n",
       "      <td>0</td>\n",
       "      <td>0</td>\n",
       "      <td>0</td>\n",
       "      <td>0</td>\n",
       "    </tr>\n",
       "    <tr>\n",
       "      <th>1</th>\n",
       "      <td>Fungal infection</td>\n",
       "      <td>0</td>\n",
       "      <td>1</td>\n",
       "      <td>0</td>\n",
       "      <td>0</td>\n",
       "      <td>0</td>\n",
       "      <td>0</td>\n",
       "      <td>0</td>\n",
       "      <td>0</td>\n",
       "      <td>0</td>\n",
       "      <td>...</td>\n",
       "      <td>0</td>\n",
       "      <td>0</td>\n",
       "      <td>0</td>\n",
       "      <td>0</td>\n",
       "      <td>0</td>\n",
       "      <td>0</td>\n",
       "      <td>0</td>\n",
       "      <td>0</td>\n",
       "      <td>0</td>\n",
       "      <td>0</td>\n",
       "    </tr>\n",
       "    <tr>\n",
       "      <th>2</th>\n",
       "      <td>Fungal infection</td>\n",
       "      <td>1</td>\n",
       "      <td>0</td>\n",
       "      <td>0</td>\n",
       "      <td>0</td>\n",
       "      <td>0</td>\n",
       "      <td>0</td>\n",
       "      <td>0</td>\n",
       "      <td>0</td>\n",
       "      <td>0</td>\n",
       "      <td>...</td>\n",
       "      <td>0</td>\n",
       "      <td>0</td>\n",
       "      <td>0</td>\n",
       "      <td>0</td>\n",
       "      <td>0</td>\n",
       "      <td>0</td>\n",
       "      <td>0</td>\n",
       "      <td>0</td>\n",
       "      <td>0</td>\n",
       "      <td>0</td>\n",
       "    </tr>\n",
       "    <tr>\n",
       "      <th>3</th>\n",
       "      <td>Fungal infection</td>\n",
       "      <td>1</td>\n",
       "      <td>1</td>\n",
       "      <td>0</td>\n",
       "      <td>0</td>\n",
       "      <td>0</td>\n",
       "      <td>0</td>\n",
       "      <td>0</td>\n",
       "      <td>0</td>\n",
       "      <td>0</td>\n",
       "      <td>...</td>\n",
       "      <td>0</td>\n",
       "      <td>0</td>\n",
       "      <td>0</td>\n",
       "      <td>0</td>\n",
       "      <td>0</td>\n",
       "      <td>0</td>\n",
       "      <td>0</td>\n",
       "      <td>0</td>\n",
       "      <td>0</td>\n",
       "      <td>0</td>\n",
       "    </tr>\n",
       "    <tr>\n",
       "      <th>4</th>\n",
       "      <td>Fungal infection</td>\n",
       "      <td>1</td>\n",
       "      <td>1</td>\n",
       "      <td>0</td>\n",
       "      <td>0</td>\n",
       "      <td>0</td>\n",
       "      <td>0</td>\n",
       "      <td>0</td>\n",
       "      <td>0</td>\n",
       "      <td>0</td>\n",
       "      <td>...</td>\n",
       "      <td>0</td>\n",
       "      <td>0</td>\n",
       "      <td>0</td>\n",
       "      <td>0</td>\n",
       "      <td>0</td>\n",
       "      <td>0</td>\n",
       "      <td>0</td>\n",
       "      <td>0</td>\n",
       "      <td>0</td>\n",
       "      <td>0</td>\n",
       "    </tr>\n",
       "    <tr>\n",
       "      <th>...</th>\n",
       "      <td>...</td>\n",
       "      <td>...</td>\n",
       "      <td>...</td>\n",
       "      <td>...</td>\n",
       "      <td>...</td>\n",
       "      <td>...</td>\n",
       "      <td>...</td>\n",
       "      <td>...</td>\n",
       "      <td>...</td>\n",
       "      <td>...</td>\n",
       "      <td>...</td>\n",
       "      <td>...</td>\n",
       "      <td>...</td>\n",
       "      <td>...</td>\n",
       "      <td>...</td>\n",
       "      <td>...</td>\n",
       "      <td>...</td>\n",
       "      <td>...</td>\n",
       "      <td>...</td>\n",
       "      <td>...</td>\n",
       "      <td>...</td>\n",
       "    </tr>\n",
       "    <tr>\n",
       "      <th>4915</th>\n",
       "      <td>(vertigo) Paroymsal  Positional Vertigo</td>\n",
       "      <td>0</td>\n",
       "      <td>0</td>\n",
       "      <td>0</td>\n",
       "      <td>0</td>\n",
       "      <td>0</td>\n",
       "      <td>0</td>\n",
       "      <td>1</td>\n",
       "      <td>0</td>\n",
       "      <td>0</td>\n",
       "      <td>...</td>\n",
       "      <td>0</td>\n",
       "      <td>0</td>\n",
       "      <td>0</td>\n",
       "      <td>0</td>\n",
       "      <td>0</td>\n",
       "      <td>0</td>\n",
       "      <td>0</td>\n",
       "      <td>0</td>\n",
       "      <td>0</td>\n",
       "      <td>0</td>\n",
       "    </tr>\n",
       "    <tr>\n",
       "      <th>4916</th>\n",
       "      <td>Acne</td>\n",
       "      <td>0</td>\n",
       "      <td>1</td>\n",
       "      <td>0</td>\n",
       "      <td>0</td>\n",
       "      <td>0</td>\n",
       "      <td>0</td>\n",
       "      <td>0</td>\n",
       "      <td>0</td>\n",
       "      <td>0</td>\n",
       "      <td>...</td>\n",
       "      <td>0</td>\n",
       "      <td>0</td>\n",
       "      <td>0</td>\n",
       "      <td>0</td>\n",
       "      <td>0</td>\n",
       "      <td>0</td>\n",
       "      <td>1</td>\n",
       "      <td>0</td>\n",
       "      <td>0</td>\n",
       "      <td>0</td>\n",
       "    </tr>\n",
       "    <tr>\n",
       "      <th>4917</th>\n",
       "      <td>Urinary tract infection</td>\n",
       "      <td>0</td>\n",
       "      <td>0</td>\n",
       "      <td>0</td>\n",
       "      <td>0</td>\n",
       "      <td>0</td>\n",
       "      <td>0</td>\n",
       "      <td>0</td>\n",
       "      <td>0</td>\n",
       "      <td>0</td>\n",
       "      <td>...</td>\n",
       "      <td>0</td>\n",
       "      <td>0</td>\n",
       "      <td>0</td>\n",
       "      <td>0</td>\n",
       "      <td>0</td>\n",
       "      <td>0</td>\n",
       "      <td>0</td>\n",
       "      <td>1</td>\n",
       "      <td>1</td>\n",
       "      <td>0</td>\n",
       "    </tr>\n",
       "    <tr>\n",
       "      <th>4918</th>\n",
       "      <td>Psoriasis</td>\n",
       "      <td>0</td>\n",
       "      <td>1</td>\n",
       "      <td>0</td>\n",
       "      <td>0</td>\n",
       "      <td>0</td>\n",
       "      <td>0</td>\n",
       "      <td>0</td>\n",
       "      <td>0</td>\n",
       "      <td>0</td>\n",
       "      <td>...</td>\n",
       "      <td>0</td>\n",
       "      <td>0</td>\n",
       "      <td>0</td>\n",
       "      <td>0</td>\n",
       "      <td>0</td>\n",
       "      <td>0</td>\n",
       "      <td>0</td>\n",
       "      <td>0</td>\n",
       "      <td>0</td>\n",
       "      <td>0</td>\n",
       "    </tr>\n",
       "    <tr>\n",
       "      <th>4919</th>\n",
       "      <td>Impetigo</td>\n",
       "      <td>0</td>\n",
       "      <td>1</td>\n",
       "      <td>0</td>\n",
       "      <td>0</td>\n",
       "      <td>0</td>\n",
       "      <td>0</td>\n",
       "      <td>0</td>\n",
       "      <td>0</td>\n",
       "      <td>0</td>\n",
       "      <td>...</td>\n",
       "      <td>0</td>\n",
       "      <td>0</td>\n",
       "      <td>0</td>\n",
       "      <td>0</td>\n",
       "      <td>0</td>\n",
       "      <td>0</td>\n",
       "      <td>0</td>\n",
       "      <td>0</td>\n",
       "      <td>0</td>\n",
       "      <td>1</td>\n",
       "    </tr>\n",
       "  </tbody>\n",
       "</table>\n",
       "<p>4920 rows × 35 columns</p>\n",
       "</div>"
      ],
      "text/plain": [
       "                                      disease  itching  skin_rash  \\\n",
       "0                            Fungal infection        1          1   \n",
       "1                            Fungal infection        0          1   \n",
       "2                            Fungal infection        1          0   \n",
       "3                            Fungal infection        1          1   \n",
       "4                            Fungal infection        1          1   \n",
       "...                                       ...      ...        ...   \n",
       "4915  (vertigo) Paroymsal  Positional Vertigo        0          0   \n",
       "4916                                     Acne        0          1   \n",
       "4917                  Urinary tract infection        0          0   \n",
       "4918                                Psoriasis        0          1   \n",
       "4919                                 Impetigo        0          1   \n",
       "\n",
       "      continuous_sneezing  shivering  stomach_pain  acidity  vomiting  \\\n",
       "0                       0          0             0        0         0   \n",
       "1                       0          0             0        0         0   \n",
       "2                       0          0             0        0         0   \n",
       "3                       0          0             0        0         0   \n",
       "4                       0          0             0        0         0   \n",
       "...                   ...        ...           ...      ...       ...   \n",
       "4915                    0          0             0        0         1   \n",
       "4916                    0          0             0        0         0   \n",
       "4917                    0          0             0        0         0   \n",
       "4918                    0          0             0        0         0   \n",
       "4919                    0          0             0        0         0   \n",
       "\n",
       "      indigestion  muscle_wasting  ...  cramps  weight_gain  mood_swings  \\\n",
       "0               0               0  ...       0            0            0   \n",
       "1               0               0  ...       0            0            0   \n",
       "2               0               0  ...       0            0            0   \n",
       "3               0               0  ...       0            0            0   \n",
       "4               0               0  ...       0            0            0   \n",
       "...           ...             ...  ...     ...          ...          ...   \n",
       "4915            0               0  ...       0            0            0   \n",
       "4916            0               0  ...       0            0            0   \n",
       "4917            0               0  ...       0            0            0   \n",
       "4918            0               0  ...       0            0            0   \n",
       "4919            0               0  ...       0            0            0   \n",
       "\n",
       "      neck_pain  muscle_weakness  stiff_neck  pus_filled_pimples  \\\n",
       "0             0                0           0                   0   \n",
       "1             0                0           0                   0   \n",
       "2             0                0           0                   0   \n",
       "3             0                0           0                   0   \n",
       "4             0                0           0                   0   \n",
       "...         ...              ...         ...                 ...   \n",
       "4915          0                0           0                   0   \n",
       "4916          0                0           0                   1   \n",
       "4917          0                0           0                   0   \n",
       "4918          0                0           0                   0   \n",
       "4919          0                0           0                   0   \n",
       "\n",
       "      burning_micturition  bladder_discomfort  high_fever  \n",
       "0                       0                   0           0  \n",
       "1                       0                   0           0  \n",
       "2                       0                   0           0  \n",
       "3                       0                   0           0  \n",
       "4                       0                   0           0  \n",
       "...                   ...                 ...         ...  \n",
       "4915                    0                   0           0  \n",
       "4916                    0                   0           0  \n",
       "4917                    1                   1           0  \n",
       "4918                    0                   0           0  \n",
       "4919                    0                   0           1  \n",
       "\n",
       "[4920 rows x 35 columns]"
      ]
     },
     "execution_count": 20,
     "metadata": {},
     "output_type": "execute_result"
    }
   ],
   "source": [
    "df"
   ]
  },
  {
   "cell_type": "code",
   "execution_count": 21,
   "id": "1b8c2d1a",
   "metadata": {
    "execution": {
     "iopub.execute_input": "2022-08-10T16:29:43.360529Z",
     "iopub.status.busy": "2022-08-10T16:29:43.360133Z",
     "iopub.status.idle": "2022-08-10T16:29:43.933052Z",
     "shell.execute_reply": "2022-08-10T16:29:43.931971Z"
    },
    "papermill": {
     "duration": 0.586017,
     "end_time": "2022-08-10T16:29:43.935914",
     "exception": false,
     "start_time": "2022-08-10T16:29:43.349897",
     "status": "completed"
    },
    "tags": []
   },
   "outputs": [],
   "source": [
    "from sklearn.linear_model import LogisticRegression\n",
    "from sklearn.ensemble import RandomForestClassifier\n",
    "from xgboost import XGBClassifier\n",
    "from sklearn.model_selection import train_test_split , cross_val_score\n",
    "from sklearn.metrics import accuracy_score, classification_report,confusion_matrix"
   ]
  },
  {
   "cell_type": "code",
   "execution_count": 22,
   "id": "28acfb81",
   "metadata": {
    "execution": {
     "iopub.execute_input": "2022-08-10T16:29:43.955719Z",
     "iopub.status.busy": "2022-08-10T16:29:43.955292Z",
     "iopub.status.idle": "2022-08-10T16:29:43.963652Z",
     "shell.execute_reply": "2022-08-10T16:29:43.962390Z"
    },
    "papermill": {
     "duration": 0.021016,
     "end_time": "2022-08-10T16:29:43.966092",
     "exception": false,
     "start_time": "2022-08-10T16:29:43.945076",
     "status": "completed"
    },
    "tags": []
   },
   "outputs": [],
   "source": [
    "y = df[\"disease\"]\n",
    "x = df.drop(['disease'],axis=1)"
   ]
  },
  {
   "cell_type": "code",
   "execution_count": 23,
   "id": "1d97a9bf",
   "metadata": {
    "execution": {
     "iopub.execute_input": "2022-08-10T16:29:43.985765Z",
     "iopub.status.busy": "2022-08-10T16:29:43.984699Z",
     "iopub.status.idle": "2022-08-10T16:29:43.992286Z",
     "shell.execute_reply": "2022-08-10T16:29:43.991458Z"
    },
    "papermill": {
     "duration": 0.019648,
     "end_time": "2022-08-10T16:29:43.994522",
     "exception": false,
     "start_time": "2022-08-10T16:29:43.974874",
     "status": "completed"
    },
    "tags": []
   },
   "outputs": [
    {
     "data": {
      "text/plain": [
       "((4920, 34), (4920,))"
      ]
     },
     "execution_count": 23,
     "metadata": {},
     "output_type": "execute_result"
    }
   ],
   "source": [
    "x.shape,y.shape"
   ]
  },
  {
   "cell_type": "code",
   "execution_count": 24,
   "id": "07c6f055",
   "metadata": {
    "execution": {
     "iopub.execute_input": "2022-08-10T16:29:44.014460Z",
     "iopub.status.busy": "2022-08-10T16:29:44.013586Z",
     "iopub.status.idle": "2022-08-10T16:29:44.028907Z",
     "shell.execute_reply": "2022-08-10T16:29:44.027917Z"
    },
    "papermill": {
     "duration": 0.027732,
     "end_time": "2022-08-10T16:29:44.031316",
     "exception": false,
     "start_time": "2022-08-10T16:29:44.003584",
     "status": "completed"
    },
    "tags": []
   },
   "outputs": [],
   "source": [
    "x_train,x_test,y_train,y_test = train_test_split(x,y,test_size=0.2,shuffle=True, random_state=42,stratify=y)"
   ]
  },
  {
   "cell_type": "code",
   "execution_count": 25,
   "id": "4cdd09dc",
   "metadata": {
    "execution": {
     "iopub.execute_input": "2022-08-10T16:29:44.051392Z",
     "iopub.status.busy": "2022-08-10T16:29:44.050160Z",
     "iopub.status.idle": "2022-08-10T16:29:44.057010Z",
     "shell.execute_reply": "2022-08-10T16:29:44.056130Z"
    },
    "papermill": {
     "duration": 0.019006,
     "end_time": "2022-08-10T16:29:44.059260",
     "exception": false,
     "start_time": "2022-08-10T16:29:44.040254",
     "status": "completed"
    },
    "tags": []
   },
   "outputs": [
    {
     "data": {
      "text/plain": [
       "((3936, 34), (3936,))"
      ]
     },
     "execution_count": 25,
     "metadata": {},
     "output_type": "execute_result"
    }
   ],
   "source": [
    "x_train.shape, y_train.shape"
   ]
  },
  {
   "cell_type": "code",
   "execution_count": 26,
   "id": "5fb4ed1d",
   "metadata": {
    "execution": {
     "iopub.execute_input": "2022-08-10T16:29:44.079417Z",
     "iopub.status.busy": "2022-08-10T16:29:44.078698Z",
     "iopub.status.idle": "2022-08-10T16:29:44.084292Z",
     "shell.execute_reply": "2022-08-10T16:29:44.083361Z"
    },
    "papermill": {
     "duration": 0.018159,
     "end_time": "2022-08-10T16:29:44.086567",
     "exception": false,
     "start_time": "2022-08-10T16:29:44.068408",
     "status": "completed"
    },
    "tags": []
   },
   "outputs": [],
   "source": [
    "lr=LogisticRegression()\n",
    "rfc=RandomForestClassifier()\n",
    "xgb=XGBClassifier()\n",
    "\n",
    "models=[]\n",
    "models.append(('LogisticRegression',lr))\n",
    "models.append(('RandomForestClassifier',rfc))\n",
    "#models.append(('XGBClassifier',xgb))"
   ]
  },
  {
   "cell_type": "code",
   "execution_count": 27,
   "id": "787a15ea",
   "metadata": {
    "execution": {
     "iopub.execute_input": "2022-08-10T16:29:44.106705Z",
     "iopub.status.busy": "2022-08-10T16:29:44.105999Z",
     "iopub.status.idle": "2022-08-10T16:30:00.647123Z",
     "shell.execute_reply": "2022-08-10T16:30:00.645229Z"
    },
    "papermill": {
     "duration": 16.555243,
     "end_time": "2022-08-10T16:30:00.650818",
     "exception": false,
     "start_time": "2022-08-10T16:29:44.095575",
     "status": "completed"
    },
    "tags": []
   },
   "outputs": [
    {
     "name": "stdout",
     "output_type": "stream",
     "text": [
      "***************** LogisticRegression *******************\n",
      "LogisticRegression()\n",
      "Accuracy_score : 0.9461382113821138\n",
      "cross_val_score : 0.9510162601626018\n",
      "classification report :\n",
      "\n",
      "                                          precision    recall  f1-score   support\n",
      "\n",
      "(vertigo) Paroymsal  Positional Vertigo       0.53      0.88      0.66        24\n",
      "                                   AIDS       1.00      1.00      1.00        24\n",
      "                                   Acne       1.00      0.92      0.96        24\n",
      "                    Alcoholic hepatitis       0.83      0.79      0.81        24\n",
      "                                Allergy       1.00      1.00      1.00        24\n",
      "                              Arthritis       1.00      1.00      1.00        24\n",
      "                       Bronchial Asthma       1.00      1.00      1.00        24\n",
      "                   Cervical spondylosis       1.00      1.00      1.00        24\n",
      "                            Chicken pox       1.00      1.00      1.00        24\n",
      "                    Chronic cholestasis       0.88      0.88      0.88        24\n",
      "                            Common Cold       1.00      1.00      1.00        24\n",
      "                                 Dengue       1.00      1.00      1.00        24\n",
      "                              Diabetes        1.00      0.96      0.98        24\n",
      "           Dimorphic hemmorhoids(piles)       1.00      1.00      1.00        24\n",
      "                          Drug Reaction       1.00      1.00      1.00        24\n",
      "                       Fungal infection       1.00      0.92      0.96        24\n",
      "                                   GERD       1.00      1.00      1.00        24\n",
      "                        Gastroenteritis       0.77      1.00      0.87        24\n",
      "                           Heart attack       1.00      1.00      1.00        24\n",
      "                            Hepatitis B       1.00      0.83      0.91        24\n",
      "                            Hepatitis C       0.83      1.00      0.91        24\n",
      "                            Hepatitis D       0.96      1.00      0.98        24\n",
      "                            Hepatitis E       1.00      0.96      0.98        24\n",
      "                          Hypertension        1.00      0.88      0.93        24\n",
      "                        Hyperthyroidism       1.00      1.00      1.00        24\n",
      "                           Hypoglycemia       1.00      0.96      0.98        24\n",
      "                         Hypothyroidism       1.00      1.00      1.00        24\n",
      "                               Impetigo       0.80      1.00      0.89        24\n",
      "                               Jaundice       1.00      1.00      1.00        24\n",
      "                                Malaria       1.00      1.00      1.00        24\n",
      "                               Migraine       1.00      1.00      1.00        24\n",
      "                        Osteoarthristis       1.00      0.92      0.96        24\n",
      "           Paralysis (brain hemorrhage)       0.29      0.08      0.13        24\n",
      "                    Peptic ulcer diseae       0.96      1.00      0.98        24\n",
      "                              Pneumonia       1.00      1.00      1.00        24\n",
      "                              Psoriasis       0.92      0.92      0.92        24\n",
      "                           Tuberculosis       1.00      1.00      1.00        24\n",
      "                                Typhoid       1.00      1.00      1.00        24\n",
      "                Urinary tract infection       1.00      1.00      1.00        24\n",
      "                         Varicose veins       1.00      1.00      1.00        24\n",
      "                            hepatitis A       1.00      0.92      0.96        24\n",
      "\n",
      "                               accuracy                           0.95       984\n",
      "                              macro avg       0.95      0.95      0.94       984\n",
      "                           weighted avg       0.95      0.95      0.94       984\n",
      "\n",
      "***************** RandomForestClassifier *******************\n",
      "RandomForestClassifier()\n",
      "Accuracy_score : 0.9461382113821138\n",
      "cross_val_score : 0.9510162601626018\n",
      "classification report :\n",
      "\n",
      "                                          precision    recall  f1-score   support\n",
      "\n",
      "(vertigo) Paroymsal  Positional Vertigo       0.53      0.88      0.66        24\n",
      "                                   AIDS       1.00      1.00      1.00        24\n",
      "                                   Acne       1.00      0.92      0.96        24\n",
      "                    Alcoholic hepatitis       0.83      0.79      0.81        24\n",
      "                                Allergy       1.00      1.00      1.00        24\n",
      "                              Arthritis       1.00      1.00      1.00        24\n",
      "                       Bronchial Asthma       1.00      1.00      1.00        24\n",
      "                   Cervical spondylosis       1.00      1.00      1.00        24\n",
      "                            Chicken pox       1.00      1.00      1.00        24\n",
      "                    Chronic cholestasis       0.88      0.88      0.88        24\n",
      "                            Common Cold       1.00      1.00      1.00        24\n",
      "                                 Dengue       1.00      1.00      1.00        24\n",
      "                              Diabetes        1.00      0.96      0.98        24\n",
      "           Dimorphic hemmorhoids(piles)       1.00      1.00      1.00        24\n",
      "                          Drug Reaction       1.00      1.00      1.00        24\n",
      "                       Fungal infection       1.00      0.92      0.96        24\n",
      "                                   GERD       1.00      1.00      1.00        24\n",
      "                        Gastroenteritis       0.77      1.00      0.87        24\n",
      "                           Heart attack       1.00      1.00      1.00        24\n",
      "                            Hepatitis B       1.00      0.83      0.91        24\n",
      "                            Hepatitis C       0.86      1.00      0.92        24\n",
      "                            Hepatitis D       0.96      1.00      0.98        24\n",
      "                            Hepatitis E       1.00      0.96      0.98        24\n",
      "                          Hypertension        1.00      0.88      0.93        24\n",
      "                        Hyperthyroidism       1.00      1.00      1.00        24\n",
      "                           Hypoglycemia       1.00      0.96      0.98        24\n",
      "                         Hypothyroidism       1.00      1.00      1.00        24\n",
      "                               Impetigo       0.80      1.00      0.89        24\n",
      "                               Jaundice       1.00      1.00      1.00        24\n",
      "                                Malaria       1.00      1.00      1.00        24\n",
      "                               Migraine       1.00      1.00      1.00        24\n",
      "                        Osteoarthristis       1.00      0.92      0.96        24\n",
      "           Paralysis (brain hemorrhage)       0.29      0.08      0.13        24\n",
      "                    Peptic ulcer diseae       0.96      1.00      0.98        24\n",
      "                              Pneumonia       1.00      1.00      1.00        24\n",
      "                              Psoriasis       0.92      0.92      0.92        24\n",
      "                           Tuberculosis       1.00      1.00      1.00        24\n",
      "                                Typhoid       1.00      1.00      1.00        24\n",
      "                Urinary tract infection       1.00      1.00      1.00        24\n",
      "                         Varicose veins       0.96      1.00      0.98        24\n",
      "                            hepatitis A       1.00      0.92      0.96        24\n",
      "\n",
      "                               accuracy                           0.95       984\n",
      "                              macro avg       0.94      0.95      0.94       984\n",
      "                           weighted avg       0.94      0.95      0.94       984\n",
      "\n"
     ]
    },
    {
     "data": {
      "text/html": [
       "<div>\n",
       "<style scoped>\n",
       "    .dataframe tbody tr th:only-of-type {\n",
       "        vertical-align: middle;\n",
       "    }\n",
       "\n",
       "    .dataframe tbody tr th {\n",
       "        vertical-align: top;\n",
       "    }\n",
       "\n",
       "    .dataframe thead th {\n",
       "        text-align: right;\n",
       "    }\n",
       "</style>\n",
       "<table border=\"1\" class=\"dataframe\">\n",
       "  <thead>\n",
       "    <tr style=\"text-align: right;\">\n",
       "      <th></th>\n",
       "      <th>Model</th>\n",
       "      <th>Accuracy_score</th>\n",
       "      <th>Cross_val_score</th>\n",
       "    </tr>\n",
       "  </thead>\n",
       "  <tbody>\n",
       "    <tr>\n",
       "      <th>0</th>\n",
       "      <td>LogisticRegression</td>\n",
       "      <td>94.613821</td>\n",
       "      <td>95.101626</td>\n",
       "    </tr>\n",
       "    <tr>\n",
       "      <th>1</th>\n",
       "      <td>RandomForestClassifier</td>\n",
       "      <td>94.613821</td>\n",
       "      <td>95.101626</td>\n",
       "    </tr>\n",
       "  </tbody>\n",
       "</table>\n",
       "</div>"
      ],
      "text/plain": [
       "                    Model  Accuracy_score  Cross_val_score\n",
       "0      LogisticRegression       94.613821        95.101626\n",
       "1  RandomForestClassifier       94.613821        95.101626"
      ]
     },
     "execution_count": 27,
     "metadata": {},
     "output_type": "execute_result"
    }
   ],
   "source": [
    "Model=[]\n",
    "score=[]\n",
    "cv=[]\n",
    "\n",
    "for name,model in models:\n",
    "    print('*****************',name,'*******************')\n",
    "    Model.append(name)\n",
    "    model.fit(x_train,y_train)\n",
    "    print(model)\n",
    "    pre=model.predict(x_test)\n",
    "    AS=accuracy_score\n",
    "    AS=accuracy_score(y_test,pre)\n",
    "    print('Accuracy_score :',AS)\n",
    "    score.append(AS*100)\n",
    "    sc=cross_val_score(model,x,y,cv=10,scoring='accuracy').mean()\n",
    "    print('cross_val_score :',sc)\n",
    "    cv.append(sc*100)       \n",
    "    print('classification report :\\n\\n',classification_report(y_test,pre))\n",
    "    #cm=confusion_matrix(y_test,pre)\n",
    "\n",
    "result=pd.DataFrame({'Model':Model,'Accuracy_score':score,'Cross_val_score':cv})\n",
    "result"
   ]
  },
  {
   "cell_type": "code",
   "execution_count": null,
   "id": "d7f6afb2",
   "metadata": {
    "papermill": {
     "duration": 0.009558,
     "end_time": "2022-08-10T16:30:00.670520",
     "exception": false,
     "start_time": "2022-08-10T16:30:00.660962",
     "status": "completed"
    },
    "tags": []
   },
   "outputs": [],
   "source": []
  }
 ],
 "metadata": {
  "kernelspec": {
   "display_name": "Python 3",
   "language": "python",
   "name": "python3"
  },
  "language_info": {
   "codemirror_mode": {
    "name": "ipython",
    "version": 3
   },
   "file_extension": ".py",
   "mimetype": "text/x-python",
   "name": "python",
   "nbconvert_exporter": "python",
   "pygments_lexer": "ipython3",
   "version": "3.7.12"
  },
  "papermill": {
   "default_parameters": {},
   "duration": 29.854317,
   "end_time": "2022-08-10T16:30:01.503531",
   "environment_variables": {},
   "exception": null,
   "input_path": "__notebook__.ipynb",
   "output_path": "__notebook__.ipynb",
   "parameters": {},
   "start_time": "2022-08-10T16:29:31.649214",
   "version": "2.3.4"
  }
 },
 "nbformat": 4,
 "nbformat_minor": 5
}
